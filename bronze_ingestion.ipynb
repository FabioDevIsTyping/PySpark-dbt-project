{
 "cells": [
  {
   "cell_type": "markdown",
   "metadata": {
    "application/vnd.databricks.v1+cell": {
     "cellMetadata": {},
     "inputWidgets": {},
     "nuid": "66c673ec-74a8-4de0-b3d5-d78db4426e0f",
     "showTitle": false,
     "tableResultSettingsMap": {},
     "title": ""
    }
   },
   "source": [
    "### Simple checks\n",
    "Just using the read function to have an overview of one of the csv files."
   ]
  },
  {
   "cell_type": "code",
   "execution_count": 0,
   "metadata": {
    "application/vnd.databricks.v1+cell": {
     "cellMetadata": {
      "byteLimit": 2048000,
      "rowLimit": 10000
     },
     "inputWidgets": {},
     "nuid": "6458088c-0d74-4848-95a8-86a44329a57e",
     "showTitle": false,
     "tableResultSettingsMap": {},
     "title": ""
    }
   },
   "outputs": [],
   "source": [
    "df = spark.read.format(\"csv\")\\\n",
    "    .option(\"header\", \"true\")\\\n",
    "    .option(\"inferSchema\", \"true\")\\\n",
    "    .load(\"/Volumes/pysparkdbt/source/source_data/customers/\")"
   ]
  },
  {
   "cell_type": "code",
   "execution_count": 0,
   "metadata": {
    "application/vnd.databricks.v1+cell": {
     "cellMetadata": {
      "byteLimit": 2048000,
      "rowLimit": 10000
     },
     "inputWidgets": {},
     "nuid": "258296b5-b27a-4af7-8dd9-a93352e403ad",
     "showTitle": false,
     "tableResultSettingsMap": {},
     "title": ""
    }
   },
   "outputs": [],
   "source": [
    "# Checking the schema for customers\n",
    "schema_customers = df.schema\n",
    "schema_customers"
   ]
  },
  {
   "cell_type": "code",
   "execution_count": 0,
   "metadata": {
    "application/vnd.databricks.v1+cell": {
     "cellMetadata": {
      "byteLimit": 2048000,
      "rowLimit": 10000
     },
     "inputWidgets": {},
     "nuid": "fea6acda-ca61-4285-bbbd-6cf2de5dfc1c",
     "showTitle": false,
     "tableResultSettingsMap": {},
     "title": ""
    }
   },
   "outputs": [],
   "source": [
    "display(df)"
   ]
  },
  {
   "cell_type": "markdown",
   "metadata": {
    "application/vnd.databricks.v1+cell": {
     "cellMetadata": {},
     "inputWidgets": {},
     "nuid": "249eefaa-1592-4b79-a975-99e113f15c63",
     "showTitle": false,
     "tableResultSettingsMap": {},
     "title": ""
    }
   },
   "source": [
    "### Spark Streaming Process\n",
    "In this process we utilized the readStream function to read the data.\n",
    "We defined entities and obtained the schemas for those entities to make the whole code more dynamic."
   ]
  },
  {
   "cell_type": "code",
   "execution_count": 0,
   "metadata": {
    "application/vnd.databricks.v1+cell": {
     "cellMetadata": {
      "byteLimit": 2048000,
      "rowLimit": 10000
     },
     "inputWidgets": {},
     "nuid": "508582d8-a519-45f1-8837-05c569857e2b",
     "showTitle": false,
     "tableResultSettingsMap": {},
     "title": ""
    }
   },
   "outputs": [],
   "source": [
    "entities = [\"customers\",\"trips\",\"locations\",\"payments\", \"vehicles\", \"drivers\"]"
   ]
  },
  {
   "cell_type": "code",
   "execution_count": 0,
   "metadata": {
    "application/vnd.databricks.v1+cell": {
     "cellMetadata": {
      "byteLimit": 2048000,
      "rowLimit": 10000
     },
     "inputWidgets": {},
     "nuid": "6b7f60bb-ac4c-47e2-adfa-29d3f318fa58",
     "showTitle": false,
     "tableResultSettingsMap": {},
     "title": ""
    }
   },
   "outputs": [],
   "source": [
    "for entity in entities:\n",
    "\n",
    "    df_batch = spark.read.format(\"csv\")\\\n",
    "    .option(\"header\", \"true\")\\\n",
    "    .option(\"inferSchema\", \"true\")\\\n",
    "    .load(f\"/Volumes/pysparkdbt/source/source_data/{entity}/\")\n",
    "\n",
    "    schema_entity = df_batch.schema\n",
    "\n",
    "    df = spark.readStream.format(\"csv\")\\\n",
    "        .option(\"header\", \"true\")\\\n",
    "        .schema(schema_entity)\\\n",
    "        .load(f\"/Volumes/pysparkdbt/source/source_data/{entity}/\")\n",
    "\n",
    "    # Checkpoints to enable, with trigger once, we just process once to not exceeed a lot of compute, in other settings we could use processingTime = \"10 seconds\" or so. It dictates when we want to apply the incremental load.\n",
    "    df.writeStream.format(\"delta\")\\\n",
    "        .option(\"checkpointLocation\", f\"/Volumes/pysparkdbt/bronze/checkpoint/{entity}\")\\\n",
    "        .trigger(once=True)\\\n",
    "        .toTable(f\"pysparkdbt.bronze.{entity}\")"
   ]
  },
  {
   "cell_type": "markdown",
   "metadata": {
    "application/vnd.databricks.v1+cell": {
     "cellMetadata": {},
     "inputWidgets": {},
     "nuid": "d34958db-f176-45af-a9a0-18327a46512c",
     "showTitle": false,
     "tableResultSettingsMap": {},
     "title": ""
    }
   },
   "source": [
    "#### Schemas definition through structs.\n",
    "\n",
    "Added infestion timestamp and file source path. \n",
    "Fixed StructType per entity removes the randomness of inferSchema, making failures early noticeable.\n"
   ]
  },
  {
   "cell_type": "code",
   "execution_count": 0,
   "metadata": {
    "application/vnd.databricks.v1+cell": {
     "cellMetadata": {
      "byteLimit": 2048000,
      "implicitDf": true,
      "rowLimit": 10000
     },
     "inputWidgets": {},
     "nuid": "76fabe3f-f1b1-4c59-804f-488dfe7b88ff",
     "showTitle": false,
     "tableResultSettingsMap": {},
     "title": ""
    }
   },
   "outputs": [],
   "source": [
    "%sql\n",
    "/*\n",
    "DROP TABLE IF EXISTS pysparkdbt.bronze.customers;\n",
    "DROP TABLE IF EXISTS pysparkdbt.bronze.trips;\n",
    "DROP TABLE IF EXISTS pysparkdbt.bronze.locations;\n",
    "DROP TABLE IF EXISTS pysparkdbt.bronze.payments;\n",
    "DROP TABLE IF EXISTS pysparkdbt.bronze.vehicles;\n",
    "DROP TABLE IF EXISTS pysparkdbt.bronze.drivers;\n",
    "*/\n"
   ]
  },
  {
   "cell_type": "code",
   "execution_count": 0,
   "metadata": {
    "application/vnd.databricks.v1+cell": {
     "cellMetadata": {
      "byteLimit": 2048000,
      "rowLimit": 10000
     },
     "inputWidgets": {},
     "nuid": "66f33fa1-054c-4a48-9e54-20c1f48d86ec",
     "showTitle": false,
     "tableResultSettingsMap": {},
     "title": ""
    }
   },
   "outputs": [],
   "source": [
    "# Imports\n",
    "from pyspark.sql.types import StructType, StructField, StringType, IntegerType, LongType, DoubleType, TimestampType, BooleanType\n",
    "from pyspark.sql.functions import current_timestamp, input_file_name\n"
   ]
  },
  {
   "cell_type": "code",
   "execution_count": 0,
   "metadata": {
    "application/vnd.databricks.v1+cell": {
     "cellMetadata": {
      "byteLimit": 2048000,
      "rowLimit": 10000
     },
     "inputWidgets": {},
     "nuid": "2397b8a4-a624-44e8-9c09-113f85db8374",
     "showTitle": false,
     "tableResultSettingsMap": {},
     "title": ""
    }
   },
   "outputs": [],
   "source": [
    "# Defining schemas for each entity\n",
    "schemas = {\n",
    "    \"customers\": StructType([\n",
    "        StructField(\"customer_id\", LongType(), True),\n",
    "        StructField(\"name\", StringType(), True),\n",
    "        StructField(\"email\", StringType(), True),\n",
    "        StructField(\"phone\", StringType(), True),\n",
    "        StructField(\"created_at\", TimestampType(), True)\n",
    "    ]),\n",
    "    \"trips\": StructType([\n",
    "        StructField(\"trip_id\", LongType(), True),\n",
    "        StructField(\"customer_id\", LongType(), True),\n",
    "        StructField(\"driver_id\", LongType(), True),\n",
    "        StructField(\"vehicle_id\", LongType(), True),\n",
    "        StructField(\"pickup_location_id\", LongType(), True),\n",
    "        StructField(\"dropoff_location_id\", LongType(), True),\n",
    "        StructField(\"start_time\", TimestampType(), True),\n",
    "        StructField(\"end_time\", TimestampType(), True),\n",
    "        StructField(\"distance_km\", DoubleType(), True),\n",
    "        StructField(\"status\", StringType(), True)\n",
    "    ]),\n",
    "    \"locations\": StructType([\n",
    "        StructField(\"location_id\", LongType(), True),\n",
    "        StructField(\"latitude\", DoubleType(), True),\n",
    "        StructField(\"longitude\", DoubleType(), True),\n",
    "        StructField(\"city\", StringType(), True),\n",
    "        StructField(\"country\", StringType(), True)\n",
    "    ]),\n",
    "    \"payments\": StructType([\n",
    "        StructField(\"payment_id\", LongType(), True),\n",
    "        StructField(\"trip_id\", LongType(), True),\n",
    "        StructField(\"customer_id\", LongType(), True),\n",
    "        StructField(\"amount\", DoubleType(), True),\n",
    "        StructField(\"currency\", StringType(), True),\n",
    "        StructField(\"method\", StringType(), True),\n",
    "        StructField(\"paid_at\", TimestampType(), True)\n",
    "    ]),\n",
    "    \"vehicles\": StructType([\n",
    "        StructField(\"vehicle_id\", LongType(), True),\n",
    "        StructField(\"driver_id\", LongType(), True),\n",
    "        StructField(\"plate_number\", StringType(), True),\n",
    "        StructField(\"make\", StringType(), True),\n",
    "        StructField(\"model\", StringType(), True),\n",
    "        StructField(\"year\", IntegerType(), True),\n",
    "        StructField(\"capacity\", IntegerType(), True)\n",
    "    ]),\n",
    "    \"drivers\": StructType([\n",
    "        StructField(\"driver_id\", LongType(), True),\n",
    "        StructField(\"name\", StringType(), True),\n",
    "        StructField(\"license_number\", StringType(), True),\n",
    "        StructField(\"hired_at\", TimestampType(), True),\n",
    "        StructField(\"active\", BooleanType(), True)\n",
    "    ])\n",
    "}"
   ]
  },
  {
   "cell_type": "code",
   "execution_count": 0,
   "metadata": {
    "application/vnd.databricks.v1+cell": {
     "cellMetadata": {
      "byteLimit": 2048000,
      "rowLimit": 10000
     },
     "inputWidgets": {},
     "nuid": "cee900c3-5a49-47e1-891c-afe237963818",
     "showTitle": false,
     "tableResultSettingsMap": {},
     "title": ""
    }
   },
   "outputs": [],
   "source": [
    "from pyspark.sql.functions import current_timestamp, col\n",
    "\n",
    "entities = [\"customers\", \"trips\", \"locations\", \"payments\", \"vehicles\", \"drivers\"]\n",
    "\n",
    "queries = []\n",
    "for entity in entities:\n",
    "    source = f\"/Volumes/pysparkdbt/source/source_data/{entity}/\"\n",
    "    check = f\"/Volumes/pysparkdbt/bronze/checkpoint/{entity}\"\n",
    "    schema_entity = schemas[entity]\n",
    "\n",
    "    df = (spark.readStream\n",
    "          .format(\"csv\")\n",
    "          .option(\"header\", \"true\")\n",
    "          .schema(schema_entity)\n",
    "          .load(source)\n",
    "          .withColumn(\"ingestion_timestamp\", current_timestamp())\n",
    "          .withColumn(\"input_file_path\", col(\"_metadata.file_path\"))\n",
    "         )\n",
    "\n",
    "    q = (df.writeStream\n",
    "         .format(\"delta\")\n",
    "         .option(\"checkpointLocation\", check)\n",
    "         .trigger(once=True)\n",
    "         .toTable(f\"pysparkdbt.bronze.{entity}\"))\n",
    "    queries.append(q)\n",
    "\n",
    "for q in queries:\n",
    "    q.awaitTermination()\n"
   ]
  }
 ],
 "metadata": {
  "application/vnd.databricks.v1+notebook": {
   "computePreferences": {
    "hardware": {
     "accelerator": null,
     "gpuPoolId": null,
     "memory": null
    }
   },
   "dashboards": [],
   "environmentMetadata": {
    "base_environment": "",
    "environment_version": "3"
   },
   "inputWidgetPreferences": null,
   "language": "python",
   "notebookMetadata": {
    "mostRecentlyExecutedCommandWithImplicitDF": {
     "commandId": 5292605373448602,
     "dataframes": [
      "_sqldf"
     ]
    },
    "pythonIndentUnit": 4
   },
   "notebookName": "bronze_ingestion",
   "widgets": {}
  },
  "language_info": {
   "name": "python"
  }
 },
 "nbformat": 4,
 "nbformat_minor": 0
}
