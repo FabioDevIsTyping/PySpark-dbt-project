{
 "cells": [
  {
   "cell_type": "markdown",
   "metadata": {
    "application/vnd.databricks.v1+cell": {
     "cellMetadata": {
      "byteLimit": 2048000,
      "rowLimit": 10000
     },
     "inputWidgets": {},
     "nuid": "6e45f4f5-0e9a-4925-881d-f7f6aad16d88",
     "showTitle": false,
     "tableResultSettingsMap": {},
     "title": ""
    }
   },
   "source": [
    "### Customers"
   ]
  },
  {
   "cell_type": "code",
   "execution_count": 0,
   "metadata": {
    "application/vnd.databricks.v1+cell": {
     "cellMetadata": {
      "byteLimit": 2048000,
      "rowLimit": 10000
     },
     "inputWidgets": {},
     "nuid": "a3482428-63a1-45c7-bf8c-6b65d453be12",
     "showTitle": false,
     "tableResultSettingsMap": {},
     "title": ""
    }
   },
   "outputs": [],
   "source": [
    "from pyspark.sql.functions import *\n",
    "from pyspark.sql.types import *"
   ]
  },
  {
   "cell_type": "code",
   "execution_count": 0,
   "metadata": {
    "application/vnd.databricks.v1+cell": {
     "cellMetadata": {
      "byteLimit": 2048000,
      "rowLimit": 10000
     },
     "inputWidgets": {},
     "nuid": "5a918a8f-79c1-48d3-a103-9f9a35f9e06b",
     "showTitle": false,
     "tableResultSettingsMap": {},
     "title": ""
    }
   },
   "outputs": [],
   "source": [
    "import os, sys\n",
    "\n",
    "repo_root = os.getcwd() \n",
    "if repo_root not in sys.path:\n",
    "    sys.path.append(repo_root)"
   ]
  },
  {
   "cell_type": "code",
   "execution_count": 0,
   "metadata": {
    "application/vnd.databricks.v1+cell": {
     "cellMetadata": {
      "byteLimit": 2048000,
      "rowLimit": 10000
     },
     "inputWidgets": {},
     "nuid": "09178a3d-dd36-412f-8c19-2d767b16b64d",
     "showTitle": false,
     "tableResultSettingsMap": {},
     "title": ""
    }
   },
   "outputs": [],
   "source": [
    "df_cust = spark.read.table(\"pysparkdbt.bronze.customers\")"
   ]
  },
  {
   "cell_type": "code",
   "execution_count": 0,
   "metadata": {
    "application/vnd.databricks.v1+cell": {
     "cellMetadata": {
      "byteLimit": 2048000,
      "rowLimit": 10000
     },
     "inputWidgets": {},
     "nuid": "1a1f61a9-9b74-464b-b391-18d8f70c5899",
     "showTitle": false,
     "tableResultSettingsMap": {
      "0": {
       "dataGridStateBlob": "{\"version\":1,\"tableState\":{\"columnPinning\":{\"left\":[\"#row_number#\"],\"right\":[]},\"columnSizing\":{},\"columnVisibility\":{}},\"settings\":{\"columns\":{}},\"syncTimestamp\":1759049022074}",
       "filterBlob": null,
       "queryPlanFiltersBlob": null,
       "tableResultIndex": 0
      }
     },
     "title": ""
    }
   },
   "outputs": [],
   "source": [
    "display(df_cust)"
   ]
  },
  {
   "cell_type": "code",
   "execution_count": 0,
   "metadata": {
    "application/vnd.databricks.v1+cell": {
     "cellMetadata": {
      "byteLimit": 2048000,
      "rowLimit": 10000
     },
     "inputWidgets": {},
     "nuid": "35c80696-2e8b-4b2d-8c47-36dca404f8b1",
     "showTitle": false,
     "tableResultSettingsMap": {},
     "title": ""
    }
   },
   "outputs": [],
   "source": [
    "df_cust = df_cust.withColumn(\"domain\", split(col(\"email\"), \"@\").getItem(1))\n",
    "display(df_cust)"
   ]
  },
  {
   "cell_type": "code",
   "execution_count": 0,
   "metadata": {
    "application/vnd.databricks.v1+cell": {
     "cellMetadata": {
      "byteLimit": 2048000,
      "rowLimit": 10000
     },
     "inputWidgets": {},
     "nuid": "2bd72fd4-4ce0-4e66-b3c0-7578bf0ff7d8",
     "showTitle": false,
     "tableResultSettingsMap": {},
     "title": ""
    }
   },
   "outputs": [],
   "source": [
    "# Replace all non digits letters in the phone number column with nothing.\n",
    "df_cust = df_cust.withColumn(\n",
    "    \"phone_number\",\n",
    "    regexp_replace(col(\"phone_number\"), \"[^0-9]\", \"\")\n",
    ")\n",
    "display(df_cust)"
   ]
  },
  {
   "cell_type": "code",
   "execution_count": 0,
   "metadata": {
    "application/vnd.databricks.v1+cell": {
     "cellMetadata": {
      "byteLimit": 2048000,
      "rowLimit": 10000
     },
     "inputWidgets": {},
     "nuid": "77908d0b-9144-4e2a-953d-7747fae96d25",
     "showTitle": false,
     "tableResultSettingsMap": {},
     "title": ""
    }
   },
   "outputs": [],
   "source": [
    "# Created full_name column by concatinating first_name and last_name, dropping the original after.\n",
    "df_cust = df_cust.withColumn(\"full_name\", concat_ws((\" \"), col(\"first_name\"), col(\"last_name\")))\n",
    "display(df_cust)\n",
    "df_cust = df_cust.drop(\"first_name\", \"last_name\")"
   ]
  },
  {
   "cell_type": "code",
   "execution_count": 0,
   "metadata": {
    "application/vnd.databricks.v1+cell": {
     "cellMetadata": {
      "byteLimit": 2048000,
      "rowLimit": 10000
     },
     "inputWidgets": {},
     "nuid": "ff995454-0912-4354-9a9a-6b0f344ed118",
     "showTitle": false,
     "tableResultSettingsMap": {},
     "title": ""
    }
   },
   "outputs": [],
   "source": [
    "from utilities.custom_utils import Transformations\n",
    "t = Transformations()\n",
    "df_transformed = t.deduplicate(df_cust,[\"customer_id\"],\"last_updated_timestamp\", \"ingestion_timestamp\")\n",
    "\n",
    "display(df_transformed)"
   ]
  },
  {
   "cell_type": "code",
   "execution_count": 0,
   "metadata": {
    "application/vnd.databricks.v1+cell": {
     "cellMetadata": {
      "byteLimit": 2048000,
      "rowLimit": 10000
     },
     "inputWidgets": {},
     "nuid": "df7346ca-c60b-41b2-8508-7e341f88397c",
     "showTitle": false,
     "tableResultSettingsMap": {},
     "title": ""
    }
   },
   "outputs": [],
   "source": [
    "df_transformed = t.process_timestamp(df_transformed)\n",
    "display(df_transformed)"
   ]
  },
  {
   "cell_type": "code",
   "execution_count": 0,
   "metadata": {
    "application/vnd.databricks.v1+cell": {
     "cellMetadata": {
      "byteLimit": 2048000,
      "rowLimit": 10000
     },
     "inputWidgets": {},
     "nuid": "54722e28-13ec-400a-8749-507525e53ba0",
     "showTitle": false,
     "tableResultSettingsMap": {},
     "title": ""
    }
   },
   "outputs": [],
   "source": [
    "from pyspark.sql.functions import col\n",
    "\n",
    "table = \"pysparkdbt.silver.customers\"\n",
    "cdc_col = \"last_updated_timestamp\"\n",
    "t.upsert(\n",
    "        df=df_transformed,\n",
    "        key_cols=[\"customer_id\"],\n",
    "        target_table=table,\n",
    "        cdc=cdc_col\n",
    "    )"
   ]
  },
  {
   "cell_type": "code",
   "execution_count": 0,
   "metadata": {
    "application/vnd.databricks.v1+cell": {
     "cellMetadata": {
      "byteLimit": 2048000,
      "rowLimit": 10000
     },
     "inputWidgets": {},
     "nuid": "d8393e16-fc57-402c-929d-d92d2f996c99",
     "showTitle": false,
     "tableResultSettingsMap": {},
     "title": ""
    }
   },
   "outputs": [],
   "source": [
    "display(df_transformed) # Rerun and should constantly be 200 if no new records have been inserted."
   ]
  },
  {
   "cell_type": "markdown",
   "metadata": {
    "application/vnd.databricks.v1+cell": {
     "cellMetadata": {
      "byteLimit": 2048000,
      "rowLimit": 10000
     },
     "inputWidgets": {},
     "nuid": "9fe22276-c70f-453c-80b1-8267b4955b2f",
     "showTitle": false,
     "tableResultSettingsMap": {},
     "title": ""
    }
   },
   "source": [
    "### Drivers Table"
   ]
  },
  {
   "cell_type": "code",
   "execution_count": 0,
   "metadata": {
    "application/vnd.databricks.v1+cell": {
     "cellMetadata": {
      "byteLimit": 2048000,
      "rowLimit": 10000
     },
     "inputWidgets": {},
     "nuid": "0d4896cb-9250-4974-b5f3-f96b8d964e2d",
     "showTitle": false,
     "tableResultSettingsMap": {},
     "title": ""
    }
   },
   "outputs": [],
   "source": [
    "df_driver = spark.read.table(\"pysparkdbt.bronze.drivers\")\n",
    "display(df_driver)"
   ]
  },
  {
   "cell_type": "code",
   "execution_count": 0,
   "metadata": {
    "application/vnd.databricks.v1+cell": {
     "cellMetadata": {
      "byteLimit": 2048000,
      "rowLimit": 10000
     },
     "inputWidgets": {},
     "nuid": "366ccb58-69d0-4731-b0a0-9c64af6661e4",
     "showTitle": false,
     "tableResultSettingsMap": {},
     "title": ""
    }
   },
   "outputs": [],
   "source": [
    "df_driver = df_driver.withColumn(\"full_name\", concat_ws((\" \"), col(\"first_name\"), col(\"last_name\")))\n",
    "display(df_driver)\n",
    "df_driver = df_driver.drop(\"first_name\", \"last_name\")"
   ]
  },
  {
   "cell_type": "code",
   "execution_count": 0,
   "metadata": {
    "application/vnd.databricks.v1+cell": {
     "cellMetadata": {
      "byteLimit": 2048000,
      "rowLimit": 10000
     },
     "inputWidgets": {},
     "nuid": "2b30ac3e-6eb3-477d-9b82-ccbdf93574f9",
     "showTitle": false,
     "tableResultSettingsMap": {},
     "title": ""
    }
   },
   "outputs": [],
   "source": [
    "# Replace all non digits letters in the phone number column with nothing.\n",
    "df_driver = df_driver.withColumn(\n",
    "    \"phone_number\",\n",
    "    regexp_replace(col(\"phone_number\"), \"[^0-9]\", \"\")\n",
    ")\n",
    "display(df_driver)"
   ]
  },
  {
   "cell_type": "code",
   "execution_count": 0,
   "metadata": {
    "application/vnd.databricks.v1+cell": {
     "cellMetadata": {
      "byteLimit": 2048000,
      "rowLimit": 10000
     },
     "inputWidgets": {},
     "nuid": "6beb69a5-b6eb-486e-a667-44928c08cbd0",
     "showTitle": false,
     "tableResultSettingsMap": {},
     "title": ""
    }
   },
   "outputs": [],
   "source": [
    "# Checking for duplicates\n",
    "\n",
    "dup_primary = t.duplicates_report(df_driver, [\"driver_id\"])\n",
    "dup_temporal = t.duplicates_report(df_driver, [\"driver_id\", \"last_updated_timestamp\"])\n",
    "display(dup_primary)\n",
    "display(dup_temporal)"
   ]
  },
  {
   "cell_type": "code",
   "execution_count": 0,
   "metadata": {
    "application/vnd.databricks.v1+cell": {
     "cellMetadata": {
      "byteLimit": 2048000,
      "rowLimit": 10000
     },
     "inputWidgets": {},
     "nuid": "46ac483a-ff63-438a-b0d1-a29a832c0dfe",
     "showTitle": false,
     "tableResultSettingsMap": {},
     "title": ""
    }
   },
   "outputs": [],
   "source": [
    "nulls = t.nulls_report(df_driver, [\"driver_id\", \"last_updated_timestamp\", \"phone_number\", \"vehicle_id\", \"driver_rating\", \"city\"\t])\n",
    "display(nulls)"
   ]
  },
  {
   "cell_type": "code",
   "execution_count": 0,
   "metadata": {
    "application/vnd.databricks.v1+cell": {
     "cellMetadata": {
      "byteLimit": 2048000,
      "rowLimit": 10000
     },
     "inputWidgets": {},
     "nuid": "45fbc764-3bce-4cf0-8ddf-1e84889908a9",
     "showTitle": false,
     "tableResultSettingsMap": {},
     "title": ""
    }
   },
   "outputs": [],
   "source": [
    "# Split the data into valid and rejected by assuring non nulls\n",
    "split = t.require_non_null(df_driver, [\"driver_id\" , \"last_updated_timestamp\"])\n",
    "valid = split[\"valid\"]\n",
    "rejected = split[\"rejected\"]"
   ]
  },
  {
   "cell_type": "code",
   "execution_count": 0,
   "metadata": {
    "application/vnd.databricks.v1+cell": {
     "cellMetadata": {
      "byteLimit": 2048000,
      "rowLimit": 10000
     },
     "inputWidgets": {},
     "nuid": "53d64f76-07fe-4bc6-bb24-bacee786326d",
     "showTitle": false,
     "tableResultSettingsMap": {},
     "title": ""
    }
   },
   "outputs": [],
   "source": [
    "# Filters by valid ranges on the driver ratings [0.0,5.0]\n",
    "valid = t.filter_by_ranges(valid, {\"driver_rating\": (0.0, 5.0)}, inclusive=True)[\"valid\"]"
   ]
  },
  {
   "cell_type": "code",
   "execution_count": 0,
   "metadata": {
    "application/vnd.databricks.v1+cell": {
     "cellMetadata": {
      "byteLimit": 2048000,
      "rowLimit": 10000
     },
     "inputWidgets": {},
     "nuid": "899b21b7-c459-458c-b65e-f14aa5c5a760",
     "showTitle": false,
     "tableResultSettingsMap": {},
     "title": ""
    }
   },
   "outputs": [],
   "source": [
    "# Deduplication by last updated timestamp and if needed ingestion timestamp as a tie breaker\n",
    "df_silver = t.deduplicate_by_recency(\n",
    "    df = valid,\n",
    "    keys = [\"driver_id\"],\n",
    "    cdc = \"last_updated_timestamp\",\n",
    "    tie_breaker = \"ingestion_timestamp\"\n",
    ")"
   ]
  },
  {
   "cell_type": "code",
   "execution_count": 0,
   "metadata": {
    "application/vnd.databricks.v1+cell": {
     "cellMetadata": {
      "byteLimit": 2048000,
      "rowLimit": 10000
     },
     "inputWidgets": {},
     "nuid": "b00133a0-78c5-4a24-9c9a-39619431a2f2",
     "showTitle": false,
     "tableResultSettingsMap": {},
     "title": ""
    }
   },
   "outputs": [],
   "source": [
    "display(df_silver)"
   ]
  },
  {
   "cell_type": "code",
   "execution_count": 0,
   "metadata": {
    "application/vnd.databricks.v1+cell": {
     "cellMetadata": {
      "byteLimit": 2048000,
      "rowLimit": 10000
     },
     "inputWidgets": {},
     "nuid": "c6da9114-841a-43e3-b9d1-3885b2cf373b",
     "showTitle": false,
     "tableResultSettingsMap": {},
     "title": ""
    }
   },
   "outputs": [],
   "source": [
    "t.upsert(\n",
    "    df = df_silver,\n",
    "    key_cols = [\"driver_id\"],\n",
    "    target_table = \"pysparkdbt.silver.drivers\",\n",
    "    cdc = \"last_updated_timestamp\"\n",
    ")"
   ]
  },
  {
   "cell_type": "markdown",
   "metadata": {
    "application/vnd.databricks.v1+cell": {
     "cellMetadata": {
      "byteLimit": 2048000,
      "rowLimit": 10000
     },
     "inputWidgets": {},
     "nuid": "3eb966c9-fd58-41f8-b245-3ddb649452ef",
     "showTitle": false,
     "tableResultSettingsMap": {},
     "title": ""
    }
   },
   "source": [
    "### Vehicles"
   ]
  },
  {
   "cell_type": "code",
   "execution_count": 0,
   "metadata": {
    "application/vnd.databricks.v1+cell": {
     "cellMetadata": {
      "byteLimit": 2048000,
      "rowLimit": 10000
     },
     "inputWidgets": {},
     "nuid": "c793a6da-6e81-43c2-9c38-d600ac3aa324",
     "showTitle": false,
     "tableResultSettingsMap": {},
     "title": ""
    }
   },
   "outputs": [],
   "source": [
    "df_vehicles = spark.read.table(\"pysparkdbt.bronze.vehicles\")\n",
    "display(df_vehicles)"
   ]
  },
  {
   "cell_type": "code",
   "execution_count": 0,
   "metadata": {
    "application/vnd.databricks.v1+cell": {
     "cellMetadata": {
      "byteLimit": 2048000,
      "rowLimit": 10000
     },
     "inputWidgets": {},
     "nuid": "03117c28-3dca-47ff-ae48-6faf544f0dba",
     "showTitle": false,
     "tableResultSettingsMap": {},
     "title": ""
    }
   },
   "outputs": [],
   "source": [
    "# Clean Strings\n",
    "import pyspark.sql.functions as F\n",
    "df_vehicles = t.sanitize_string(df_vehicles, [\"license_plate\"], pattern=r\"[^A-Za-z0-9]\", replacement=\"\")\n",
    "df_vehicles = df_vehicles.withColumn(\"license_plate\", F.upper(F.col(\"license_plate\")))\n",
    "display(df_vehicles)\n"
   ]
  },
  {
   "cell_type": "code",
   "execution_count": 0,
   "metadata": {
    "application/vnd.databricks.v1+cell": {
     "cellMetadata": {
      "byteLimit": 2048000,
      "rowLimit": 10000
     },
     "inputWidgets": {},
     "nuid": "1a9133ea-4002-4e51-b271-b4b3c372e7c3",
     "showTitle": false,
     "tableResultSettingsMap": {},
     "title": ""
    }
   },
   "outputs": [],
   "source": [
    "df_vehicles = t.sanitize_string(df_vehicles, [\"make\"], pattern=r\",\", replacement=\" \")\n",
    "df_vehicles = t.sanitize_string(df_vehicles, [\"make\"], pattern=r\"[^A-Za-z0-9 .&'\\-]\", replacement=\"\")\n",
    "df_vehicles = df_vehicles.withColumn(\"make\", F.regexp_replace(F.col(\"make\"), r\"\\s+\", \" \"))\n",
    "df_vehicles = df_vehicles.withColumn(\"make\", F.initcap(F.trim(F.col(\"make\"))))\n",
    "display(df_vehicles)"
   ]
  },
  {
   "cell_type": "code",
   "execution_count": 0,
   "metadata": {
    "application/vnd.databricks.v1+cell": {
     "cellMetadata": {
      "byteLimit": 2048000,
      "rowLimit": 10000
     },
     "inputWidgets": {},
     "nuid": "0be99ecf-893a-4482-818e-ced6abbb2e40",
     "showTitle": false,
     "tableResultSettingsMap": {},
     "title": ""
    }
   },
   "outputs": [],
   "source": [
    "df_vehicles = t.sanitize_string(df_vehicles, [\"model\"], pattern=r\"[^A-Za-z0-9 \\-]\", replacement=\"\")\n",
    "df_vehicles = df_vehicles.withColumn(\"model\", F.regexp_replace(F.col(\"model\"), r\"\\s+\", \" \"))\n",
    "df_vehicles = df_vehicles.withColumn(\"model\", F.trim(F.col(\"model\")))\n",
    "display(df_vehicles)"
   ]
  },
  {
   "cell_type": "code",
   "execution_count": 0,
   "metadata": {
    "application/vnd.databricks.v1+cell": {
     "cellMetadata": {
      "byteLimit": 2048000,
      "implicitDf": true,
      "rowLimit": 10000
     },
     "inputWidgets": {},
     "nuid": "03735b50-d201-4537-b77f-cce57d3a3d19",
     "showTitle": false,
     "tableResultSettingsMap": {},
     "title": ""
    }
   },
   "outputs": [],
   "source": [
    "%sql\n",
    "SELECT DISTINCT vehicle_type FROM pysparkdbt.bronze.vehicles"
   ]
  },
  {
   "cell_type": "code",
   "execution_count": 0,
   "metadata": {
    "application/vnd.databricks.v1+cell": {
     "cellMetadata": {
      "byteLimit": 2048000,
      "rowLimit": 10000
     },
     "inputWidgets": {},
     "nuid": "9de89068-e883-43ea-b25c-82c88441ecc3",
     "showTitle": false,
     "tableResultSettingsMap": {},
     "title": ""
    }
   },
   "outputs": [],
   "source": [
    "valid_types = F.array([F.lit(x) for x in [\"Sedan\",\"Suv\",\"Hatchback\",\"Van\",\"Luxury\"]])\n",
    "df_vehicles = df_vehicles.withColumn(\"vehicle_type\", F.initcap(F.trim(F.col(\"vehicle_type\"))))\n",
    "\n",
    "display(df_vehicles)"
   ]
  },
  {
   "cell_type": "code",
   "execution_count": 0,
   "metadata": {
    "application/vnd.databricks.v1+cell": {
     "cellMetadata": {
      "byteLimit": 2048000,
      "rowLimit": 10000
     },
     "inputWidgets": {},
     "nuid": "3b50385e-45d2-42a1-8eb2-ba833a211124",
     "showTitle": false,
     "tableResultSettingsMap": {
      "1": {
       "dataGridStateBlob": "{\"version\":1,\"tableState\":{\"columnPinning\":{\"left\":[\"#row_number#\"],\"right\":[]},\"columnSizing\":{},\"columnVisibility\":{}},\"settings\":{\"columns\":{}},\"syncTimestamp\":1759217835236}",
       "filterBlob": null,
       "queryPlanFiltersBlob": null,
       "tableResultIndex": 1
      }
     },
     "title": ""
    }
   },
   "outputs": [],
   "source": [
    "from datetime import datetime\n",
    "max_year = datetime.now().year\n",
    "res_year = t.filter_by_ranges(df_vehicles, {\"year\": (1980.0, float(max_year))}, inclusive=True)\n",
    "df_vehicles = res_year[\"valid\"]\n",
    "df_vrejected = res_year[\"rejected\"]\n",
    "display(df_vrejected)\n",
    "display(df_vehicles)"
   ]
  },
  {
   "cell_type": "code",
   "execution_count": 0,
   "metadata": {
    "application/vnd.databricks.v1+cell": {
     "cellMetadata": {
      "byteLimit": 2048000,
      "rowLimit": 10000
     },
     "inputWidgets": {},
     "nuid": "14c6d025-a105-4b42-be96-92196d8f69b9",
     "showTitle": false,
     "tableResultSettingsMap": {},
     "title": ""
    }
   },
   "outputs": [],
   "source": [
    "duplicated = t.duplicates_report(df_vehicles, [\"license_plate\", \"vehicle_id\"])\n",
    "display(duplicated)\n",
    "\n",
    "nulls = t.nulls_report(df_vehicles, [\"vehicle_id\",\"license_plate\",\"year\",\"vehicle_type\"])\n",
    "display(nulls)"
   ]
  },
  {
   "cell_type": "code",
   "execution_count": 0,
   "metadata": {
    "application/vnd.databricks.v1+cell": {
     "cellMetadata": {
      "byteLimit": 2048000,
      "rowLimit": 10000
     },
     "inputWidgets": {},
     "nuid": "a4332eed-9380-4312-80a7-042330a31193",
     "showTitle": false,
     "tableResultSettingsMap": {},
     "title": ""
    }
   },
   "outputs": [],
   "source": [
    "split = t.require_non_null(df_vehicles, [\"vehicle_id\"])\n",
    "valid = split[\"valid\"]\n",
    "rejected = split[\"rejected\"]\n",
    "\n",
    "display(valid)\n",
    "display(rejected)"
   ]
  },
  {
   "cell_type": "code",
   "execution_count": 0,
   "metadata": {
    "application/vnd.databricks.v1+cell": {
     "cellMetadata": {
      "byteLimit": 2048000,
      "rowLimit": 10000
     },
     "inputWidgets": {},
     "nuid": "32c7f84e-b27a-4d88-bd50-e1af5b6215b9",
     "showTitle": false,
     "tableResultSettingsMap": {},
     "title": ""
    }
   },
   "outputs": [],
   "source": [
    "# Deduplication on the vehicle id key by recency used last updated timestmamp or the ingestion timestamp\n",
    "df_silver = t.deduplicate_by_recency(\n",
    "    df=valid,\n",
    "    keys=[\"vehicle_id\"],\n",
    "    cdc=\"last_updated_timestamp\",\n",
    "    tie_breaker=\"ingestion_timestamp\"\n",
    ") if \"last_updated_timestamp\" in valid.columns else t.deduplicate_by_recency(valid, [\"vehicle_id\"], cdc=\"vehicle_id\")"
   ]
  },
  {
   "cell_type": "code",
   "execution_count": 0,
   "metadata": {
    "application/vnd.databricks.v1+cell": {
     "cellMetadata": {
      "byteLimit": 2048000,
      "rowLimit": 10000
     },
     "inputWidgets": {},
     "nuid": "1227dc23-24fa-4a2c-a068-767f0b8ec91a",
     "showTitle": false,
     "tableResultSettingsMap": {},
     "title": ""
    }
   },
   "outputs": [],
   "source": [
    "t.upsert(\n",
    "    df=df_silver,\n",
    "    key_cols=[\"vehicle_id\"],\n",
    "    target_table=\"pysparkdbt.silver.vehicles\",\n",
    "    cdc=\"last_updated_timestamp\" if \"last_updated_timestamp\" in df_silver.columns else \"vehicle_id\"\n",
    ")"
   ]
  },
  {
   "cell_type": "code",
   "execution_count": 0,
   "metadata": {
    "application/vnd.databricks.v1+cell": {
     "cellMetadata": {
      "byteLimit": 2048000,
      "implicitDf": true,
      "rowLimit": 10000
     },
     "inputWidgets": {},
     "nuid": "4f5b407d-db83-460f-b042-a57b0583f89b",
     "showTitle": false,
     "tableResultSettingsMap": {},
     "title": ""
    }
   },
   "outputs": [],
   "source": [
    "%sql\n",
    "SELECT COUNT(*) FROM pysparkdbt.silver.vehicles"
   ]
  }
 ],
 "metadata": {
  "application/vnd.databricks.v1+notebook": {
   "computePreferences": {
    "hardware": {
     "accelerator": null,
     "gpuPoolId": null,
     "memory": null
    }
   },
   "dashboards": [],
   "environmentMetadata": {
    "base_environment": "",
    "environment_version": "3"
   },
   "inputWidgetPreferences": null,
   "language": "python",
   "notebookMetadata": {
    "mostRecentlyExecutedCommandWithImplicitDF": {
     "commandId": 6974990222468324,
     "dataframes": [
      "_sqldf"
     ]
    },
    "pythonIndentUnit": 4
   },
   "notebookName": "silver_transformation",
   "widgets": {}
  },
  "language_info": {
   "name": "python"
  }
 },
 "nbformat": 4,
 "nbformat_minor": 0
}
